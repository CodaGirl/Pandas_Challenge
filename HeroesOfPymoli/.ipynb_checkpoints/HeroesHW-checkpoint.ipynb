{
 "cells": [
  {
   "cell_type": "markdown",
   "metadata": {},
   "source": [
    "### Heroes Of Pymoli Data Analysis\n",
    "* Of the 1163 active players, the vast majority are male (84%). There also exists, a smaller, but notable proportion of female players (14%).\n",
    "\n",
    "* Our peak age demographic falls between 20-24 (44.8%) with secondary groups falling between 15-19 (18.60%) and 25-29 (13.4%).  \n",
    "-----"
   ]
  },
  {
   "cell_type": "markdown",
   "metadata": {},
   "source": [
    "### Note\n",
    "* Instructions have been included for each segment. You do not have to follow them exactly, but they are included to help you think through the steps."
   ]
  },
  {
   "cell_type": "code",
   "execution_count": 1,
   "metadata": {},
   "outputs": [
    {
     "data": {
      "text/html": [
       "<div>\n",
       "<style scoped>\n",
       "    .dataframe tbody tr th:only-of-type {\n",
       "        vertical-align: middle;\n",
       "    }\n",
       "\n",
       "    .dataframe tbody tr th {\n",
       "        vertical-align: top;\n",
       "    }\n",
       "\n",
       "    .dataframe thead th {\n",
       "        text-align: right;\n",
       "    }\n",
       "</style>\n",
       "<table border=\"1\" class=\"dataframe\">\n",
       "  <thead>\n",
       "    <tr style=\"text-align: right;\">\n",
       "      <th></th>\n",
       "      <th>Purchase ID</th>\n",
       "      <th>SN</th>\n",
       "      <th>Age</th>\n",
       "      <th>Gender</th>\n",
       "      <th>Item ID</th>\n",
       "      <th>Item Name</th>\n",
       "      <th>Price</th>\n",
       "    </tr>\n",
       "  </thead>\n",
       "  <tbody>\n",
       "    <tr>\n",
       "      <th>0</th>\n",
       "      <td>0</td>\n",
       "      <td>Lisim78</td>\n",
       "      <td>20</td>\n",
       "      <td>Male</td>\n",
       "      <td>108</td>\n",
       "      <td>Extraction, Quickblade Of Trembling Hands</td>\n",
       "      <td>3.53</td>\n",
       "    </tr>\n",
       "    <tr>\n",
       "      <th>1</th>\n",
       "      <td>1</td>\n",
       "      <td>Lisovynya38</td>\n",
       "      <td>40</td>\n",
       "      <td>Male</td>\n",
       "      <td>143</td>\n",
       "      <td>Frenzied Scimitar</td>\n",
       "      <td>1.56</td>\n",
       "    </tr>\n",
       "    <tr>\n",
       "      <th>2</th>\n",
       "      <td>2</td>\n",
       "      <td>Ithergue48</td>\n",
       "      <td>24</td>\n",
       "      <td>Male</td>\n",
       "      <td>92</td>\n",
       "      <td>Final Critic</td>\n",
       "      <td>4.88</td>\n",
       "    </tr>\n",
       "    <tr>\n",
       "      <th>3</th>\n",
       "      <td>3</td>\n",
       "      <td>Chamassasya86</td>\n",
       "      <td>24</td>\n",
       "      <td>Male</td>\n",
       "      <td>100</td>\n",
       "      <td>Blindscythe</td>\n",
       "      <td>3.27</td>\n",
       "    </tr>\n",
       "    <tr>\n",
       "      <th>4</th>\n",
       "      <td>4</td>\n",
       "      <td>Iskosia90</td>\n",
       "      <td>23</td>\n",
       "      <td>Male</td>\n",
       "      <td>131</td>\n",
       "      <td>Fury</td>\n",
       "      <td>1.44</td>\n",
       "    </tr>\n",
       "    <tr>\n",
       "      <th>5</th>\n",
       "      <td>5</td>\n",
       "      <td>Yalae81</td>\n",
       "      <td>22</td>\n",
       "      <td>Male</td>\n",
       "      <td>81</td>\n",
       "      <td>Dreamkiss</td>\n",
       "      <td>3.61</td>\n",
       "    </tr>\n",
       "    <tr>\n",
       "      <th>6</th>\n",
       "      <td>6</td>\n",
       "      <td>Itheria73</td>\n",
       "      <td>36</td>\n",
       "      <td>Male</td>\n",
       "      <td>169</td>\n",
       "      <td>Interrogator, Blood Blade of the Queen</td>\n",
       "      <td>2.18</td>\n",
       "    </tr>\n",
       "    <tr>\n",
       "      <th>7</th>\n",
       "      <td>7</td>\n",
       "      <td>Iskjaskst81</td>\n",
       "      <td>20</td>\n",
       "      <td>Male</td>\n",
       "      <td>162</td>\n",
       "      <td>Abyssal Shard</td>\n",
       "      <td>2.67</td>\n",
       "    </tr>\n",
       "    <tr>\n",
       "      <th>8</th>\n",
       "      <td>8</td>\n",
       "      <td>Undjask33</td>\n",
       "      <td>22</td>\n",
       "      <td>Male</td>\n",
       "      <td>21</td>\n",
       "      <td>Souleater</td>\n",
       "      <td>1.10</td>\n",
       "    </tr>\n",
       "    <tr>\n",
       "      <th>9</th>\n",
       "      <td>9</td>\n",
       "      <td>Chanosian48</td>\n",
       "      <td>35</td>\n",
       "      <td>Other / Non-Disclosed</td>\n",
       "      <td>136</td>\n",
       "      <td>Ghastly Adamantite Protector</td>\n",
       "      <td>3.58</td>\n",
       "    </tr>\n",
       "  </tbody>\n",
       "</table>\n",
       "</div>"
      ],
      "text/plain": [
       "   Purchase ID             SN  Age                 Gender  Item ID  \\\n",
       "0            0        Lisim78   20                   Male      108   \n",
       "1            1    Lisovynya38   40                   Male      143   \n",
       "2            2     Ithergue48   24                   Male       92   \n",
       "3            3  Chamassasya86   24                   Male      100   \n",
       "4            4      Iskosia90   23                   Male      131   \n",
       "5            5        Yalae81   22                   Male       81   \n",
       "6            6      Itheria73   36                   Male      169   \n",
       "7            7    Iskjaskst81   20                   Male      162   \n",
       "8            8      Undjask33   22                   Male       21   \n",
       "9            9    Chanosian48   35  Other / Non-Disclosed      136   \n",
       "\n",
       "                                   Item Name  Price  \n",
       "0  Extraction, Quickblade Of Trembling Hands   3.53  \n",
       "1                          Frenzied Scimitar   1.56  \n",
       "2                               Final Critic   4.88  \n",
       "3                                Blindscythe   3.27  \n",
       "4                                       Fury   1.44  \n",
       "5                                  Dreamkiss   3.61  \n",
       "6     Interrogator, Blood Blade of the Queen   2.18  \n",
       "7                              Abyssal Shard   2.67  \n",
       "8                                  Souleater   1.10  \n",
       "9               Ghastly Adamantite Protector   3.58  "
      ]
     },
     "execution_count": 1,
     "metadata": {},
     "output_type": "execute_result"
    }
   ],
   "source": [
    "# Dependencies and Setup\n",
    "import pandas as pd\n",
    "import numpy as np\n",
    "\n",
    "# File to Load (Remember to Change These)\n",
    "file_to_load = \"Resources/purchase_data.csv\"\n",
    "\n",
    "# Read Purchasing File and store into Pandas data frame\n",
    "purchase_data = pd.read_csv(file_to_load)\n",
    "purchase_data.head(10)"
   ]
  },
  {
   "cell_type": "markdown",
   "metadata": {},
   "source": [
    "## Player Count"
   ]
  },
  {
   "cell_type": "markdown",
   "metadata": {},
   "source": [
    "* Display the total number of players\n"
   ]
  },
  {
   "cell_type": "code",
   "execution_count": 2,
   "metadata": {},
   "outputs": [
    {
     "data": {
      "text/html": [
       "<div>\n",
       "<style scoped>\n",
       "    .dataframe tbody tr th:only-of-type {\n",
       "        vertical-align: middle;\n",
       "    }\n",
       "\n",
       "    .dataframe tbody tr th {\n",
       "        vertical-align: top;\n",
       "    }\n",
       "\n",
       "    .dataframe thead th {\n",
       "        text-align: right;\n",
       "    }\n",
       "</style>\n",
       "<table border=\"1\" class=\"dataframe\">\n",
       "  <thead>\n",
       "    <tr style=\"text-align: right;\">\n",
       "      <th></th>\n",
       "      <th>Total Players</th>\n",
       "    </tr>\n",
       "  </thead>\n",
       "  <tbody>\n",
       "    <tr>\n",
       "      <th>0</th>\n",
       "      <td>576</td>\n",
       "    </tr>\n",
       "  </tbody>\n",
       "</table>\n",
       "</div>"
      ],
      "text/plain": [
       "   Total Players\n",
       "0            576"
      ]
     },
     "execution_count": 2,
     "metadata": {},
     "output_type": "execute_result"
    }
   ],
   "source": [
    "\n",
    "# Calculate the Number of Unique Players\n",
    "player_demographics = purchase_data.loc[:, [\"SN\"]]\n",
    "player_demographics = player_demographics.drop_duplicates()\n",
    "num_players = player_demographics.count()[0]\n",
    "\n",
    "# Display the total number of players\n",
    "pd.DataFrame({\"Total Players\": [num_players]})"
   ]
  },
  {
   "cell_type": "markdown",
   "metadata": {},
   "source": [
    "## Purchasing Analysis (Total)"
   ]
  },
  {
   "cell_type": "markdown",
   "metadata": {},
   "source": [
    "* Run basic calculations to obtain number of unique items, average price, etc.\n",
    "\n",
    "\n",
    "* Create a summary data frame to hold the results\n",
    "\n",
    "\n",
    "* Optional: give the displayed data cleaner formatting\n",
    "\n",
    "\n",
    "* Display the summary data frame\n"
   ]
  },
  {
   "cell_type": "code",
   "execution_count": 3,
   "metadata": {
    "scrolled": true
   },
   "outputs": [
    {
     "data": {
      "text/html": [
       "<div>\n",
       "<style scoped>\n",
       "    .dataframe tbody tr th:only-of-type {\n",
       "        vertical-align: middle;\n",
       "    }\n",
       "\n",
       "    .dataframe tbody tr th {\n",
       "        vertical-align: top;\n",
       "    }\n",
       "\n",
       "    .dataframe thead th {\n",
       "        text-align: right;\n",
       "    }\n",
       "</style>\n",
       "<table border=\"1\" class=\"dataframe\">\n",
       "  <thead>\n",
       "    <tr style=\"text-align: right;\">\n",
       "      <th></th>\n",
       "      <th>Total Purchases</th>\n",
       "      <th>Average Purchase Price</th>\n",
       "      <th>Total Revenue</th>\n",
       "    </tr>\n",
       "  </thead>\n",
       "  <tbody>\n",
       "    <tr>\n",
       "      <th>0</th>\n",
       "      <td>780</td>\n",
       "      <td>3.05</td>\n",
       "      <td>2379.77</td>\n",
       "    </tr>\n",
       "  </tbody>\n",
       "</table>\n",
       "</div>"
      ],
      "text/plain": [
       "   Total Purchases  Average Purchase Price  Total Revenue\n",
       "0              780                    3.05        2379.77"
      ]
     },
     "execution_count": 3,
     "metadata": {},
     "output_type": "execute_result"
    }
   ],
   "source": [
    "#creates a df but only keeping last occurance of Item ID\n",
    "no_dup_items = purchase_data.drop_duplicates(['Item ID'])\n",
    "#counts items by unique ID\n",
    "\n",
    "#finds the number of total purchases by counting occurances of price\n",
    "total_pur = purchase_data['Price'].count()\n",
    "#calculates total revenue for table by summing occurance of price and below calc\n",
    "total_rev = round(purchase_data['Price'].sum(),2)\n",
    "#calculates total_rev\n",
    "avg_price = round(total_rev/total_pur, 2)\n",
    "\n",
    "#creates Purchase Analysis DataFrame\n",
    "pur_analysis = pd.DataFrame([{\n",
    "    \n",
    "    'Average Purchase Price': avg_price,\n",
    "    'Total Purchases': total_pur,\n",
    "        'Total Revenue': total_rev} \n",
    " \n",
    "], columns = ['Total Purchases', 'Average Purchase Price', 'Total Revenue'])\n",
    "\n",
    "pur_analysis\n",
    "\n",
    "#format Purchases Analysis Table\n",
    "#pur_analysis.style.format({'Average Purchase Price': '${:.2f}', 'Total Revenue': '${:,.2f}'})"
   ]
  },
  {
   "cell_type": "markdown",
   "metadata": {},
   "source": [
    "## Gender Demographics"
   ]
  },
  {
   "cell_type": "markdown",
   "metadata": {},
   "source": [
    "* Percentage and Count of Male Players\n",
    "\n",
    "\n",
    "* Percentage and Count of Female Players\n",
    "\n",
    "\n",
    "* Percentage and Count of Other / Non-Disclosed\n",
    "\n",
    "\n"
   ]
  },
  {
   "cell_type": "code",
   "execution_count": 4,
   "metadata": {},
   "outputs": [
    {
     "data": {
      "text/html": [
       "<style  type=\"text/css\" >\n",
       "</style>  \n",
       "<table id=\"T_5b8d2788_02e8_11e9_ac67_f218981c03f5\" > \n",
       "<thead>    <tr> \n",
       "        <th class=\"blank level0\" ></th> \n",
       "        <th class=\"col_heading level0 col0\" ># of Players</th> \n",
       "        <th class=\"col_heading level0 col1\" >% of Players</th> \n",
       "    </tr>    <tr> \n",
       "        <th class=\"index_name level0\" >Gender</th> \n",
       "        <th class=\"blank\" ></th> \n",
       "        <th class=\"blank\" ></th> \n",
       "    </tr></thead> \n",
       "<tbody>    <tr> \n",
       "        <th id=\"T_5b8d2788_02e8_11e9_ac67_f218981c03f5level0_row0\" class=\"row_heading level0 row0\" >Male</th> \n",
       "        <td id=\"T_5b8d2788_02e8_11e9_ac67_f218981c03f5row0_col0\" class=\"data row0 col0\" >484</td> \n",
       "        <td id=\"T_5b8d2788_02e8_11e9_ac67_f218981c03f5row0_col1\" class=\"data row0 col1\" >84.0%</td> \n",
       "    </tr>    <tr> \n",
       "        <th id=\"T_5b8d2788_02e8_11e9_ac67_f218981c03f5level0_row1\" class=\"row_heading level0 row1\" >Female</th> \n",
       "        <td id=\"T_5b8d2788_02e8_11e9_ac67_f218981c03f5row1_col0\" class=\"data row1 col0\" >81</td> \n",
       "        <td id=\"T_5b8d2788_02e8_11e9_ac67_f218981c03f5row1_col1\" class=\"data row1 col1\" >14.1%</td> \n",
       "    </tr>    <tr> \n",
       "        <th id=\"T_5b8d2788_02e8_11e9_ac67_f218981c03f5level0_row2\" class=\"row_heading level0 row2\" >Other / Non-Disclosed</th> \n",
       "        <td id=\"T_5b8d2788_02e8_11e9_ac67_f218981c03f5row2_col0\" class=\"data row2 col0\" >11</td> \n",
       "        <td id=\"T_5b8d2788_02e8_11e9_ac67_f218981c03f5row2_col1\" class=\"data row2 col1\" >1.9%</td> \n",
       "    </tr></tbody> \n",
       "</table> "
      ],
      "text/plain": [
       "<pandas.io.formats.style.Styler at 0x11014fba8>"
      ]
     },
     "execution_count": 4,
     "metadata": {},
     "output_type": "execute_result"
    }
   ],
   "source": [
    "#creates df of unique player names by only keeping the last occurance\n",
    "no_dup_players = purchase_data.drop_duplicates(['SN'], keep ='last')\n",
    "\n",
    "\n",
    "#counts gender values from the df with no duplicate screen names\n",
    "gender_counts = no_dup_players['Gender'].value_counts().reset_index()\n",
    "#adds column for % of players using player count from first table and gender_count \n",
    "#column which is a count from line above\n",
    "gender_counts['% of Players'] = gender_counts['Gender']/num_players * 100\n",
    "#renames columns\n",
    "gender_counts.rename(columns = {'index': 'Gender', 'Gender': '# of Players'}, inplace = True)\n",
    "#sets index as Gender for aesthetics \n",
    "gender_counts.set_index(['Gender'], inplace = True)\n",
    "#just checking percents sum to 100%\n",
    "#gender_counts['% of Players'].sum()\n",
    "#formats table\n",
    "gender_counts.style.format({\"% of Players\": \"{:.1f}%\"})"
   ]
  },
  {
   "cell_type": "markdown",
   "metadata": {},
   "source": [
    "\n",
    "## Purchasing Analysis (Gender)"
   ]
  },
  {
   "cell_type": "markdown",
   "metadata": {},
   "source": [
    "* Run basic calculations to obtain purchase count, avg. purchase price, avg. purchase total per person etc. by gender\n",
    "\n",
    "\n",
    "\n",
    "\n",
    "* Create a summary data frame to hold the results\n",
    "\n",
    "\n",
    "* Optional: give the displayed data cleaner formatting\n",
    "\n",
    "\n",
    "* Display the summary data frame"
   ]
  },
  {
   "cell_type": "code",
   "execution_count": 5,
   "metadata": {},
   "outputs": [
    {
     "data": {
      "text/html": [
       "<style  type=\"text/css\" >\n",
       "</style>  \n",
       "<table id=\"T_5b9038d8_02e8_11e9_ac67_f218981c03f5\" > \n",
       "<thead>    <tr> \n",
       "        <th class=\"blank level0\" ></th> \n",
       "        <th class=\"col_heading level0 col0\" ># of Purchases</th> \n",
       "        <th class=\"col_heading level0 col1\" >Total Purchase Value</th> \n",
       "        <th class=\"col_heading level0 col2\" >Average Purchase Price</th> \n",
       "        <th class=\"col_heading level0 col3\" >Normalized Totals</th> \n",
       "    </tr>    <tr> \n",
       "        <th class=\"index_name level0\" >Gender</th> \n",
       "        <th class=\"blank\" ></th> \n",
       "        <th class=\"blank\" ></th> \n",
       "        <th class=\"blank\" ></th> \n",
       "        <th class=\"blank\" ></th> \n",
       "    </tr></thead> \n",
       "<tbody>    <tr> \n",
       "        <th id=\"T_5b9038d8_02e8_11e9_ac67_f218981c03f5level0_row0\" class=\"row_heading level0 row0\" >Female</th> \n",
       "        <td id=\"T_5b9038d8_02e8_11e9_ac67_f218981c03f5row0_col0\" class=\"data row0 col0\" >113</td> \n",
       "        <td id=\"T_5b9038d8_02e8_11e9_ac67_f218981c03f5row0_col1\" class=\"data row0 col1\" >$361.94</td> \n",
       "        <td id=\"T_5b9038d8_02e8_11e9_ac67_f218981c03f5row0_col2\" class=\"data row0 col2\" >$3.20</td> \n",
       "        <td id=\"T_5b9038d8_02e8_11e9_ac67_f218981c03f5row0_col3\" class=\"data row0 col3\" >$4.47</td> \n",
       "    </tr>    <tr> \n",
       "        <th id=\"T_5b9038d8_02e8_11e9_ac67_f218981c03f5level0_row1\" class=\"row_heading level0 row1\" >Male</th> \n",
       "        <td id=\"T_5b9038d8_02e8_11e9_ac67_f218981c03f5row1_col0\" class=\"data row1 col0\" >652</td> \n",
       "        <td id=\"T_5b9038d8_02e8_11e9_ac67_f218981c03f5row1_col1\" class=\"data row1 col1\" >$1967.64</td> \n",
       "        <td id=\"T_5b9038d8_02e8_11e9_ac67_f218981c03f5row1_col2\" class=\"data row1 col2\" >$3.02</td> \n",
       "        <td id=\"T_5b9038d8_02e8_11e9_ac67_f218981c03f5row1_col3\" class=\"data row1 col3\" >$4.07</td> \n",
       "    </tr>    <tr> \n",
       "        <th id=\"T_5b9038d8_02e8_11e9_ac67_f218981c03f5level0_row2\" class=\"row_heading level0 row2\" >Other / Non-Disclosed</th> \n",
       "        <td id=\"T_5b9038d8_02e8_11e9_ac67_f218981c03f5row2_col0\" class=\"data row2 col0\" >15</td> \n",
       "        <td id=\"T_5b9038d8_02e8_11e9_ac67_f218981c03f5row2_col1\" class=\"data row2 col1\" >$50.19</td> \n",
       "        <td id=\"T_5b9038d8_02e8_11e9_ac67_f218981c03f5row2_col2\" class=\"data row2 col2\" >$3.35</td> \n",
       "        <td id=\"T_5b9038d8_02e8_11e9_ac67_f218981c03f5row2_col3\" class=\"data row2 col3\" >$4.56</td> \n",
       "    </tr></tbody> \n",
       "</table> "
      ],
      "text/plain": [
       "<pandas.io.formats.style.Styler at 0x120b0b240>"
      ]
     },
     "execution_count": 5,
     "metadata": {},
     "output_type": "execute_result"
    }
   ],
   "source": [
    "# counts purchases by gender\n",
    "pur_count_by_gen = pd.DataFrame(purchase_data.groupby('Gender')['Gender'].count())\n",
    "# sums price by gender\n",
    "total_pur_by_gen = pd.DataFrame(purchase_data.groupby('Gender')['Price'].sum())\n",
    "#merges the two data frames from above\n",
    "pur_analysis_gen = pd.merge(pur_count_by_gen, total_pur_by_gen, left_index = True, right_index = True)\n",
    "#renames columns\n",
    "pur_analysis_gen.rename(columns = {'Gender': '# of Purchases', 'Price':'Total Purchase Value'}, inplace=True)\n",
    "#adds column for average purchase price by gender by dividing total purcahse value by gender by # of purchases by gender\n",
    "pur_analysis_gen['Average Purchase Price'] = pur_analysis_gen['Total Purchase Value']/pur_analysis_gen['# of Purchases']\n",
    "#merges gender counts from above table (excluding dup SNs) into current df \n",
    "pur_analysis_gen = pur_analysis_gen.merge(gender_counts, left_index = True, right_index = True)\n",
    "# calculates and adds normalized total column by dividing total purchase value by unique # of players by genger\n",
    "pur_analysis_gen['Normalized Totals'] = pur_analysis_gen['Total Purchase Value']/pur_analysis_gen['# of Players']\n",
    "pur_analysis_gen\n",
    "#deletes columns not needed for table (# of Players was used for normalized totals while % of players came from gender count table)\n",
    "del pur_analysis_gen['% of Players']\n",
    "del pur_analysis_gen['# of Players']\n",
    "# #resets index for aesthetics \n",
    "# # pur_analysis_gen.set_index('Gender', inplace=True)\n",
    "# #formats table\n",
    "pur_analysis_gen.style.format({'Total Purchase Value': '${:.2f}', 'Average Purchase Price': '${:.2f}', 'Normalized Totals': '${:.2f}'})"
   ]
  },
  {
   "cell_type": "markdown",
   "metadata": {},
   "source": [
    "## Age Demographics"
   ]
  },
  {
   "cell_type": "markdown",
   "metadata": {},
   "source": [
    "* Establish bins for ages\n",
    "\n",
    "\n",
    "* Categorize the existing players using the age bins. Hint: use pd.cut()\n",
    "\n",
    "\n",
    "* Calculate the numbers and percentages by age group\n",
    "\n",
    "\n",
    "* Create a summary data frame to hold the results\n",
    "\n",
    "\n",
    "* Optional: round the percentage column to two decimal points\n",
    "\n",
    "\n",
    "* Display Age Demographics Table\n"
   ]
  },
  {
   "cell_type": "code",
   "execution_count": 6,
   "metadata": {},
   "outputs": [
    {
     "data": {
      "text/html": [
       "<style  type=\"text/css\" >\n",
       "</style>  \n",
       "<table id=\"T_5b966a6e_02e8_11e9_ac67_f218981c03f5\" > \n",
       "<thead>    <tr> \n",
       "        <th class=\"blank level0\" ></th> \n",
       "        <th class=\"col_heading level0 col0\" ># of Purchases</th> \n",
       "        <th class=\"col_heading level0 col1\" >Average Purchase Price</th> \n",
       "        <th class=\"col_heading level0 col2\" >Total Purchase Value</th> \n",
       "        <th class=\"col_heading level0 col3\" ># of Purchasers</th> \n",
       "        <th class=\"col_heading level0 col4\" >Normalized Totals</th> \n",
       "    </tr>    <tr> \n",
       "        <th class=\"index_name level0\" >Age</th> \n",
       "        <th class=\"blank\" ></th> \n",
       "        <th class=\"blank\" ></th> \n",
       "        <th class=\"blank\" ></th> \n",
       "        <th class=\"blank\" ></th> \n",
       "        <th class=\"blank\" ></th> \n",
       "    </tr></thead> \n",
       "<tbody>    <tr> \n",
       "        <th id=\"T_5b966a6e_02e8_11e9_ac67_f218981c03f5level0_row0\" class=\"row_heading level0 row0\" >10 - 14</th> \n",
       "        <td id=\"T_5b966a6e_02e8_11e9_ac67_f218981c03f5row0_col0\" class=\"data row0 col0\" >28</td> \n",
       "        <td id=\"T_5b966a6e_02e8_11e9_ac67_f218981c03f5row0_col1\" class=\"data row0 col1\" >$2.96</td> \n",
       "        <td id=\"T_5b966a6e_02e8_11e9_ac67_f218981c03f5row0_col2\" class=\"data row0 col2\" >$82.78</td> \n",
       "        <td id=\"T_5b966a6e_02e8_11e9_ac67_f218981c03f5row0_col3\" class=\"data row0 col3\" >22</td> \n",
       "        <td id=\"T_5b966a6e_02e8_11e9_ac67_f218981c03f5row0_col4\" class=\"data row0 col4\" >$3.76</td> \n",
       "    </tr>    <tr> \n",
       "        <th id=\"T_5b966a6e_02e8_11e9_ac67_f218981c03f5level0_row1\" class=\"row_heading level0 row1\" >15 - 19</th> \n",
       "        <td id=\"T_5b966a6e_02e8_11e9_ac67_f218981c03f5row1_col0\" class=\"data row1 col0\" >136</td> \n",
       "        <td id=\"T_5b966a6e_02e8_11e9_ac67_f218981c03f5row1_col1\" class=\"data row1 col1\" >$3.04</td> \n",
       "        <td id=\"T_5b966a6e_02e8_11e9_ac67_f218981c03f5row1_col2\" class=\"data row1 col2\" >$412.89</td> \n",
       "        <td id=\"T_5b966a6e_02e8_11e9_ac67_f218981c03f5row1_col3\" class=\"data row1 col3\" >107</td> \n",
       "        <td id=\"T_5b966a6e_02e8_11e9_ac67_f218981c03f5row1_col4\" class=\"data row1 col4\" >$3.86</td> \n",
       "    </tr>    <tr> \n",
       "        <th id=\"T_5b966a6e_02e8_11e9_ac67_f218981c03f5level0_row2\" class=\"row_heading level0 row2\" >20 - 24</th> \n",
       "        <td id=\"T_5b966a6e_02e8_11e9_ac67_f218981c03f5row2_col0\" class=\"data row2 col0\" >365</td> \n",
       "        <td id=\"T_5b966a6e_02e8_11e9_ac67_f218981c03f5row2_col1\" class=\"data row2 col1\" >$3.05</td> \n",
       "        <td id=\"T_5b966a6e_02e8_11e9_ac67_f218981c03f5row2_col2\" class=\"data row2 col2\" >$1114.06</td> \n",
       "        <td id=\"T_5b966a6e_02e8_11e9_ac67_f218981c03f5row2_col3\" class=\"data row2 col3\" >258</td> \n",
       "        <td id=\"T_5b966a6e_02e8_11e9_ac67_f218981c03f5row2_col4\" class=\"data row2 col4\" >$4.32</td> \n",
       "    </tr>    <tr> \n",
       "        <th id=\"T_5b966a6e_02e8_11e9_ac67_f218981c03f5level0_row3\" class=\"row_heading level0 row3\" >25 - 29</th> \n",
       "        <td id=\"T_5b966a6e_02e8_11e9_ac67_f218981c03f5row3_col0\" class=\"data row3 col0\" >101</td> \n",
       "        <td id=\"T_5b966a6e_02e8_11e9_ac67_f218981c03f5row3_col1\" class=\"data row3 col1\" >$2.90</td> \n",
       "        <td id=\"T_5b966a6e_02e8_11e9_ac67_f218981c03f5row3_col2\" class=\"data row3 col2\" >$293.00</td> \n",
       "        <td id=\"T_5b966a6e_02e8_11e9_ac67_f218981c03f5row3_col3\" class=\"data row3 col3\" >77</td> \n",
       "        <td id=\"T_5b966a6e_02e8_11e9_ac67_f218981c03f5row3_col4\" class=\"data row3 col4\" >$3.81</td> \n",
       "    </tr>    <tr> \n",
       "        <th id=\"T_5b966a6e_02e8_11e9_ac67_f218981c03f5level0_row4\" class=\"row_heading level0 row4\" >30 - 34</th> \n",
       "        <td id=\"T_5b966a6e_02e8_11e9_ac67_f218981c03f5row4_col0\" class=\"data row4 col0\" >73</td> \n",
       "        <td id=\"T_5b966a6e_02e8_11e9_ac67_f218981c03f5row4_col1\" class=\"data row4 col1\" >$2.93</td> \n",
       "        <td id=\"T_5b966a6e_02e8_11e9_ac67_f218981c03f5row4_col2\" class=\"data row4 col2\" >$214.00</td> \n",
       "        <td id=\"T_5b966a6e_02e8_11e9_ac67_f218981c03f5row4_col3\" class=\"data row4 col3\" >52</td> \n",
       "        <td id=\"T_5b966a6e_02e8_11e9_ac67_f218981c03f5row4_col4\" class=\"data row4 col4\" >$4.12</td> \n",
       "    </tr>    <tr> \n",
       "        <th id=\"T_5b966a6e_02e8_11e9_ac67_f218981c03f5level0_row5\" class=\"row_heading level0 row5\" >35 - 39</th> \n",
       "        <td id=\"T_5b966a6e_02e8_11e9_ac67_f218981c03f5row5_col0\" class=\"data row5 col0\" >41</td> \n",
       "        <td id=\"T_5b966a6e_02e8_11e9_ac67_f218981c03f5row5_col1\" class=\"data row5 col1\" >$3.60</td> \n",
       "        <td id=\"T_5b966a6e_02e8_11e9_ac67_f218981c03f5row5_col2\" class=\"data row5 col2\" >$147.67</td> \n",
       "        <td id=\"T_5b966a6e_02e8_11e9_ac67_f218981c03f5row5_col3\" class=\"data row5 col3\" >31</td> \n",
       "        <td id=\"T_5b966a6e_02e8_11e9_ac67_f218981c03f5row5_col4\" class=\"data row5 col4\" >$4.76</td> \n",
       "    </tr>    <tr> \n",
       "        <th id=\"T_5b966a6e_02e8_11e9_ac67_f218981c03f5level0_row6\" class=\"row_heading level0 row6\" >< 10</th> \n",
       "        <td id=\"T_5b966a6e_02e8_11e9_ac67_f218981c03f5row6_col0\" class=\"data row6 col0\" >23</td> \n",
       "        <td id=\"T_5b966a6e_02e8_11e9_ac67_f218981c03f5row6_col1\" class=\"data row6 col1\" >$3.35</td> \n",
       "        <td id=\"T_5b966a6e_02e8_11e9_ac67_f218981c03f5row6_col2\" class=\"data row6 col2\" >$77.13</td> \n",
       "        <td id=\"T_5b966a6e_02e8_11e9_ac67_f218981c03f5row6_col3\" class=\"data row6 col3\" >17</td> \n",
       "        <td id=\"T_5b966a6e_02e8_11e9_ac67_f218981c03f5row6_col4\" class=\"data row6 col4\" >$4.54</td> \n",
       "    </tr>    <tr> \n",
       "        <th id=\"T_5b966a6e_02e8_11e9_ac67_f218981c03f5level0_row7\" class=\"row_heading level0 row7\" >> 40</th> \n",
       "        <td id=\"T_5b966a6e_02e8_11e9_ac67_f218981c03f5row7_col0\" class=\"data row7 col0\" >13</td> \n",
       "        <td id=\"T_5b966a6e_02e8_11e9_ac67_f218981c03f5row7_col1\" class=\"data row7 col1\" >$2.94</td> \n",
       "        <td id=\"T_5b966a6e_02e8_11e9_ac67_f218981c03f5row7_col2\" class=\"data row7 col2\" >$38.24</td> \n",
       "        <td id=\"T_5b966a6e_02e8_11e9_ac67_f218981c03f5row7_col3\" class=\"data row7 col3\" >12</td> \n",
       "        <td id=\"T_5b966a6e_02e8_11e9_ac67_f218981c03f5row7_col4\" class=\"data row7 col4\" >$3.19</td> \n",
       "    </tr></tbody> \n",
       "</table> "
      ],
      "text/plain": [
       "<pandas.io.formats.style.Styler at 0x120b95f98>"
      ]
     },
     "execution_count": 6,
     "metadata": {},
     "output_type": "execute_result"
    }
   ],
   "source": [
    "\n",
    "#creates a column 'age_bin' based on conditional of age range\n",
    "purchase_data.loc[(purchase_data['Age'] < 10), 'age_bin'] = \"< 10\"\n",
    "purchase_data.loc[(purchase_data['Age'] >= 10) & (purchase_data['Age'] <= 14), 'age_bin'] = \"10 - 14\"\n",
    "purchase_data.loc[(purchase_data['Age'] >= 15) & (purchase_data['Age'] <= 19), 'age_bin'] = \"15 - 19\"\n",
    "purchase_data.loc[(purchase_data['Age'] >= 20) & (purchase_data['Age'] <= 24), 'age_bin'] = \"20 - 24\"\n",
    "purchase_data.loc[(purchase_data['Age'] >= 25) & (purchase_data['Age'] <= 29), 'age_bin'] = \"25 - 29\"\n",
    "purchase_data.loc[(purchase_data['Age'] >= 30) & (purchase_data['Age'] <= 34), 'age_bin'] = \"30 - 34\"\n",
    "purchase_data.loc[(purchase_data['Age'] >= 35) & (purchase_data['Age'] <= 39), 'age_bin'] = \"35 - 39\"\n",
    "purchase_data.loc[(purchase_data['Age'] >= 40), 'age_bin'] = \"> 40\"\n",
    "#double checked count\n",
    "# pur_data[['age_bin', 'Age']].count()\n",
    "\n",
    "# counts purchases by age bin by counting screen names (non-unique)\n",
    "pur_count_age = pd.DataFrame(purchase_data.groupby('age_bin')['SN'].count())\n",
    "#finds avg price of purchases by age bin\n",
    "avg_price_age = pd.DataFrame(purchase_data.groupby('age_bin')['Price'].mean())\n",
    "#finds total purchase value by age bin\n",
    "tot_pur_age = pd.DataFrame(purchase_data.groupby('age_bin')['Price'].sum())\n",
    "#deletes multiple occurances of SN while only keeping last, then counts # of unique\n",
    "#players by age bin\n",
    "no_dup_age = pd.DataFrame(purchase_data.drop_duplicates('SN', keep = 'last').groupby('age_bin')['SN'].count())\n",
    "#merges all info from above into one df\n",
    "merge_age = pd.merge(pur_count_age, avg_price_age, left_index = True, right_index = True).merge(tot_pur_age, left_index = True, right_index = True).merge(no_dup_age, left_index = True, right_index = True)\n",
    "#renames columns\n",
    "merge_age.rename(columns = {\"SN_x\": \"# of Purchases\", \"Price_x\": \"Average Purchase Price\", \"Price_y\": \"Total Purchase Value\", \"SN_y\": \"# of Purchasers\"}, inplace = True)\n",
    "#calculates normalized totals\n",
    "merge_age['Normalized Totals'] = merge_age['Total Purchase Value']/merge_age['# of Purchasers']\n",
    "#rest index for aesthetics\n",
    "merge_age.index.rename(\"Age\", inplace = True)\n",
    "# formats\n",
    "merge_age.style.format({'Average Purchase Price': '${:.2f}', 'Total Purchase Value': '${:.2f}', 'Normalized Totals': '${:.2f}'})"
   ]
  },
  {
   "cell_type": "markdown",
   "metadata": {},
   "source": [
    "## Purchasing Analysis (Age)"
   ]
  },
  {
   "cell_type": "markdown",
   "metadata": {},
   "source": [
    "* Bin the purchase_data data frame by age\n",
    "\n",
    "\n",
    "* Run basic calculations to obtain purchase count, avg. purchase price, avg. purchase total per person etc. in the table below\n",
    "\n",
    "\n",
    "* Create a summary data frame to hold the results\n",
    "\n",
    "\n",
    "* Optional: give the displayed data cleaner formatting\n",
    "\n",
    "\n",
    "* Display the summary data frame"
   ]
  },
  {
   "cell_type": "code",
   "execution_count": null,
   "metadata": {},
   "outputs": [],
   "source": []
  },
  {
   "cell_type": "markdown",
   "metadata": {},
   "source": [
    "## Top Spenders"
   ]
  },
  {
   "cell_type": "markdown",
   "metadata": {},
   "source": [
    "* Run basic calculations to obtain the results in the table below\n",
    "\n",
    "\n",
    "* Create a summary data frame to hold the results\n",
    "\n",
    "\n",
    "* Sort the total purchase value column in descending order\n",
    "\n",
    "\n",
    "* Optional: give the displayed data cleaner formatting\n",
    "\n",
    "\n",
    "* Display a preview of the summary data frame\n",
    "\n"
   ]
  },
  {
   "cell_type": "code",
   "execution_count": 7,
   "metadata": {},
   "outputs": [
    {
     "data": {
      "text/html": [
       "<style  type=\"text/css\" >\n",
       "</style>  \n",
       "<table id=\"T_5b990f9e_02e8_11e9_ac67_f218981c03f5\" > \n",
       "<thead>    <tr> \n",
       "        <th class=\"blank level0\" ></th> \n",
       "        <th class=\"col_heading level0 col0\" >Total Purchase Value</th> \n",
       "        <th class=\"col_heading level0 col1\" >Purchase Count</th> \n",
       "        <th class=\"col_heading level0 col2\" >Average Purchase Price</th> \n",
       "    </tr>    <tr> \n",
       "        <th class=\"index_name level0\" >SN</th> \n",
       "        <th class=\"blank\" ></th> \n",
       "        <th class=\"blank\" ></th> \n",
       "        <th class=\"blank\" ></th> \n",
       "    </tr></thead> \n",
       "<tbody>    <tr> \n",
       "        <th id=\"T_5b990f9e_02e8_11e9_ac67_f218981c03f5level0_row0\" class=\"row_heading level0 row0\" >Lisosia93</th> \n",
       "        <td id=\"T_5b990f9e_02e8_11e9_ac67_f218981c03f5row0_col0\" class=\"data row0 col0\" >$18.96</td> \n",
       "        <td id=\"T_5b990f9e_02e8_11e9_ac67_f218981c03f5row0_col1\" class=\"data row0 col1\" >5</td> \n",
       "        <td id=\"T_5b990f9e_02e8_11e9_ac67_f218981c03f5row0_col2\" class=\"data row0 col2\" >$3.79</td> \n",
       "    </tr>    <tr> \n",
       "        <th id=\"T_5b990f9e_02e8_11e9_ac67_f218981c03f5level0_row1\" class=\"row_heading level0 row1\" >Idastidru52</th> \n",
       "        <td id=\"T_5b990f9e_02e8_11e9_ac67_f218981c03f5row1_col0\" class=\"data row1 col0\" >$15.45</td> \n",
       "        <td id=\"T_5b990f9e_02e8_11e9_ac67_f218981c03f5row1_col1\" class=\"data row1 col1\" >4</td> \n",
       "        <td id=\"T_5b990f9e_02e8_11e9_ac67_f218981c03f5row1_col2\" class=\"data row1 col2\" >$3.86</td> \n",
       "    </tr>    <tr> \n",
       "        <th id=\"T_5b990f9e_02e8_11e9_ac67_f218981c03f5level0_row2\" class=\"row_heading level0 row2\" >Chamjask73</th> \n",
       "        <td id=\"T_5b990f9e_02e8_11e9_ac67_f218981c03f5row2_col0\" class=\"data row2 col0\" >$13.83</td> \n",
       "        <td id=\"T_5b990f9e_02e8_11e9_ac67_f218981c03f5row2_col1\" class=\"data row2 col1\" >3</td> \n",
       "        <td id=\"T_5b990f9e_02e8_11e9_ac67_f218981c03f5row2_col2\" class=\"data row2 col2\" >$4.61</td> \n",
       "    </tr>    <tr> \n",
       "        <th id=\"T_5b990f9e_02e8_11e9_ac67_f218981c03f5level0_row3\" class=\"row_heading level0 row3\" >Iral74</th> \n",
       "        <td id=\"T_5b990f9e_02e8_11e9_ac67_f218981c03f5row3_col0\" class=\"data row3 col0\" >$13.62</td> \n",
       "        <td id=\"T_5b990f9e_02e8_11e9_ac67_f218981c03f5row3_col1\" class=\"data row3 col1\" >4</td> \n",
       "        <td id=\"T_5b990f9e_02e8_11e9_ac67_f218981c03f5row3_col2\" class=\"data row3 col2\" >$3.40</td> \n",
       "    </tr>    <tr> \n",
       "        <th id=\"T_5b990f9e_02e8_11e9_ac67_f218981c03f5level0_row4\" class=\"row_heading level0 row4\" >Iskadarya95</th> \n",
       "        <td id=\"T_5b990f9e_02e8_11e9_ac67_f218981c03f5row4_col0\" class=\"data row4 col0\" >$13.10</td> \n",
       "        <td id=\"T_5b990f9e_02e8_11e9_ac67_f218981c03f5row4_col1\" class=\"data row4 col1\" >3</td> \n",
       "        <td id=\"T_5b990f9e_02e8_11e9_ac67_f218981c03f5row4_col2\" class=\"data row4 col2\" >$4.37</td> \n",
       "    </tr></tbody> \n",
       "</table> "
      ],
      "text/plain": [
       "<pandas.io.formats.style.Styler at 0x120a6ffd0>"
      ]
     },
     "execution_count": 7,
     "metadata": {},
     "output_type": "execute_result"
    }
   ],
   "source": [
    "#Group by screen name to find, total purchase per person, number of purchases per person, and average price price per person\n",
    "purchase_amt_by_SN = pd.DataFrame(purchase_data.groupby('SN')['Price'].sum())\n",
    "num_purchase_by_SN = pd.DataFrame(purchase_data.groupby('SN')['Price'].count())\n",
    "avg_purchase_by_SN = pd.DataFrame(purchase_data.groupby('SN')['Price'].mean())\n",
    "# merge the above dfs\n",
    "merged_top5 = pd.merge(purchase_amt_by_SN, num_purchase_by_SN, left_index = True, right_index = True).merge(avg_purchase_by_SN, left_index=True, right_index=True)\n",
    "# rename columns\n",
    "merged_top5.rename(columns = {'Price_x': 'Total Purchase Value', 'Price_y':'Purchase Count', 'Price':'Average Purchase Price'}, inplace = True)\n",
    "# sort from highest purchase value to lowest\n",
    "merged_top5.sort_values('Total Purchase Value', ascending = False, inplace=True)\n",
    "# take top 5 only\n",
    "merged_top5 = merged_top5.head()\n",
    "# format\n",
    "merged_top5.style.format({'Total Purchase Value': '${:.2f}', 'Average Purchase Price': '${:.2f}'})"
   ]
  },
  {
   "cell_type": "markdown",
   "metadata": {},
   "source": [
    "## Most Popular Items"
   ]
  },
  {
   "cell_type": "markdown",
   "metadata": {},
   "source": [
    "* Retrieve the Item ID, Item Name, and Item Price columns\n",
    "\n",
    "\n",
    "* Group by Item ID and Item Name. Perform calculations to obtain purchase count, item price, and total purchase value\n",
    "\n",
    "\n",
    "* Create a summary data frame to hold the results\n",
    "\n",
    "\n",
    "* Sort the purchase count column in descending order\n",
    "\n",
    "\n",
    "* Optional: give the displayed data cleaner formatting\n",
    "\n",
    "\n",
    "* Display a preview of the summary data frame\n",
    "\n"
   ]
  },
  {
   "cell_type": "code",
   "execution_count": 8,
   "metadata": {},
   "outputs": [
    {
     "name": "stderr",
     "output_type": "stream",
     "text": [
      "/Users/SLayachi/anaconda3/lib/python3.7/site-packages/ipykernel_launcher.py:4: FutureWarning: 'Item ID' is both an index level and a column label.\n",
      "Defaulting to column, but this will raise an ambiguity error in a future version\n",
      "  after removing the cwd from sys.path.\n"
     ]
    },
    {
     "data": {
      "text/html": [
       "<style  type=\"text/css\" >\n",
       "</style>  \n",
       "<table id=\"T_5ba011ea_02e8_11e9_ac67_f218981c03f5\" > \n",
       "<thead>    <tr> \n",
       "        <th class=\"blank level0\" ></th> \n",
       "        <th class=\"col_heading level0 col0\" >Item Name</th> \n",
       "        <th class=\"col_heading level0 col1\" >Purchase Count</th> \n",
       "        <th class=\"col_heading level0 col2\" >Item Price</th> \n",
       "        <th class=\"col_heading level0 col3\" >Total Purchase Value</th> \n",
       "    </tr>    <tr> \n",
       "        <th class=\"index_name level0\" >Item ID</th> \n",
       "        <th class=\"blank\" ></th> \n",
       "        <th class=\"blank\" ></th> \n",
       "        <th class=\"blank\" ></th> \n",
       "        <th class=\"blank\" ></th> \n",
       "    </tr></thead> \n",
       "<tbody>    <tr> \n",
       "        <th id=\"T_5ba011ea_02e8_11e9_ac67_f218981c03f5level0_row0\" class=\"row_heading level0 row0\" >178</th> \n",
       "        <td id=\"T_5ba011ea_02e8_11e9_ac67_f218981c03f5row0_col0\" class=\"data row0 col0\" >Oathbreaker, Last Hope of the Breaking Storm</td> \n",
       "        <td id=\"T_5ba011ea_02e8_11e9_ac67_f218981c03f5row0_col1\" class=\"data row0 col1\" >12</td> \n",
       "        <td id=\"T_5ba011ea_02e8_11e9_ac67_f218981c03f5row0_col2\" class=\"data row0 col2\" >$4.23</td> \n",
       "        <td id=\"T_5ba011ea_02e8_11e9_ac67_f218981c03f5row0_col3\" class=\"data row0 col3\" >$50.76</td> \n",
       "    </tr>    <tr> \n",
       "        <th id=\"T_5ba011ea_02e8_11e9_ac67_f218981c03f5level0_row1\" class=\"row_heading level0 row1\" >145</th> \n",
       "        <td id=\"T_5ba011ea_02e8_11e9_ac67_f218981c03f5row1_col0\" class=\"data row1 col0\" >Fiery Glass Crusader</td> \n",
       "        <td id=\"T_5ba011ea_02e8_11e9_ac67_f218981c03f5row1_col1\" class=\"data row1 col1\" >9</td> \n",
       "        <td id=\"T_5ba011ea_02e8_11e9_ac67_f218981c03f5row1_col2\" class=\"data row1 col2\" >$4.58</td> \n",
       "        <td id=\"T_5ba011ea_02e8_11e9_ac67_f218981c03f5row1_col3\" class=\"data row1 col3\" >$41.22</td> \n",
       "    </tr>    <tr> \n",
       "        <th id=\"T_5ba011ea_02e8_11e9_ac67_f218981c03f5level0_row2\" class=\"row_heading level0 row2\" >108</th> \n",
       "        <td id=\"T_5ba011ea_02e8_11e9_ac67_f218981c03f5row2_col0\" class=\"data row2 col0\" >Extraction, Quickblade Of Trembling Hands</td> \n",
       "        <td id=\"T_5ba011ea_02e8_11e9_ac67_f218981c03f5row2_col1\" class=\"data row2 col1\" >9</td> \n",
       "        <td id=\"T_5ba011ea_02e8_11e9_ac67_f218981c03f5row2_col2\" class=\"data row2 col2\" >$3.53</td> \n",
       "        <td id=\"T_5ba011ea_02e8_11e9_ac67_f218981c03f5row2_col3\" class=\"data row2 col3\" >$31.77</td> \n",
       "    </tr>    <tr> \n",
       "        <th id=\"T_5ba011ea_02e8_11e9_ac67_f218981c03f5level0_row3\" class=\"row_heading level0 row3\" >82</th> \n",
       "        <td id=\"T_5ba011ea_02e8_11e9_ac67_f218981c03f5row3_col0\" class=\"data row3 col0\" >Nirvana</td> \n",
       "        <td id=\"T_5ba011ea_02e8_11e9_ac67_f218981c03f5row3_col1\" class=\"data row3 col1\" >9</td> \n",
       "        <td id=\"T_5ba011ea_02e8_11e9_ac67_f218981c03f5row3_col2\" class=\"data row3 col2\" >$4.90</td> \n",
       "        <td id=\"T_5ba011ea_02e8_11e9_ac67_f218981c03f5row3_col3\" class=\"data row3 col3\" >$44.10</td> \n",
       "    </tr>    <tr> \n",
       "        <th id=\"T_5ba011ea_02e8_11e9_ac67_f218981c03f5level0_row4\" class=\"row_heading level0 row4\" >19</th> \n",
       "        <td id=\"T_5ba011ea_02e8_11e9_ac67_f218981c03f5row4_col0\" class=\"data row4 col0\" >Pursuit, Cudgel of Necromancy</td> \n",
       "        <td id=\"T_5ba011ea_02e8_11e9_ac67_f218981c03f5row4_col1\" class=\"data row4 col1\" >8</td> \n",
       "        <td id=\"T_5ba011ea_02e8_11e9_ac67_f218981c03f5row4_col2\" class=\"data row4 col2\" >$1.02</td> \n",
       "        <td id=\"T_5ba011ea_02e8_11e9_ac67_f218981c03f5row4_col3\" class=\"data row4 col3\" >$8.16</td> \n",
       "    </tr>    <tr> \n",
       "        <th id=\"T_5ba011ea_02e8_11e9_ac67_f218981c03f5level0_row5\" class=\"row_heading level0 row5\" >103</th> \n",
       "        <td id=\"T_5ba011ea_02e8_11e9_ac67_f218981c03f5row5_col0\" class=\"data row5 col0\" >Singed Scalpel</td> \n",
       "        <td id=\"T_5ba011ea_02e8_11e9_ac67_f218981c03f5row5_col1\" class=\"data row5 col1\" >8</td> \n",
       "        <td id=\"T_5ba011ea_02e8_11e9_ac67_f218981c03f5row5_col2\" class=\"data row5 col2\" >$4.35</td> \n",
       "        <td id=\"T_5ba011ea_02e8_11e9_ac67_f218981c03f5row5_col3\" class=\"data row5 col3\" >$34.80</td> \n",
       "    </tr></tbody> \n",
       "</table> "
      ],
      "text/plain": [
       "<pandas.io.formats.style.Styler at 0x120a6fef0>"
      ]
     },
     "execution_count": 8,
     "metadata": {},
     "output_type": "execute_result"
    }
   ],
   "source": [
    "# gets a count of each item by grouping by Item ID and counting the number of each IDs occurances\n",
    "top5_items_ID = pd.DataFrame(purchase_data.groupby('Item ID')['Item ID'].count())\n",
    "#sort from high to low total purchase count\n",
    "top5_items_ID.sort_values('Item ID', ascending = False, inplace = True)\n",
    "#keep the first 6 rows because there is a tie\n",
    "top5_items_ID = top5_items_ID.iloc[0:6][:]\n",
    "#find the total purchase value of each item\n",
    "top5_items_total = pd.DataFrame(purchase_data.groupby('Item ID')['Price'].sum())\n",
    "#merge purcahse count and total purcahse value \n",
    "top5_items = pd.merge(top5_items_ID, top5_items_total, left_index = True, right_index = True)\n",
    "#drop duplicate items from original Df\n",
    "no_dup_items = purchase_data.drop_duplicates(['Item ID'], keep = 'last')\n",
    "# merge to get all other info from the top 6 using the no dup df\n",
    "top5_merge_ID = pd.merge(top5_items, no_dup_items, left_index = True, right_on = 'Item ID')\n",
    "#keep only neede columns\n",
    "top5_merge_ID = top5_merge_ID[['Item ID', 'Item Name', 'Item ID_x', 'Price_y', 'Price_x']]\n",
    "#reset index as item ID for aesthetics\n",
    "top5_merge_ID.set_index(['Item ID'], inplace = True)\n",
    "# rename columns\n",
    "top5_merge_ID.rename(columns =  {'Item ID_x': 'Purchase Count', 'Price_y': 'Item Price', 'Price_x': 'Total Purchase Value'}, inplace=True)\n",
    "#format\n",
    "top5_merge_ID.style.format({'Item Price': '${:.2f}', 'Total Purchase Value': '${:.2f}'})"
   ]
  },
  {
   "cell_type": "markdown",
   "metadata": {},
   "source": [
    "## Most Profitable Items"
   ]
  },
  {
   "cell_type": "markdown",
   "metadata": {},
   "source": [
    "* Sort the above table by total purchase value in descending order\n",
    "\n",
    "\n",
    "* Optional: give the displayed data cleaner formatting\n",
    "\n",
    "\n",
    "* Display a preview of the data frame\n",
    "\n"
   ]
  },
  {
   "cell_type": "code",
   "execution_count": 9,
   "metadata": {
    "scrolled": true
   },
   "outputs": [
    {
     "data": {
      "text/html": [
       "<style  type=\"text/css\" >\n",
       "</style>  \n",
       "<table id=\"T_5ba6e5f6_02e8_11e9_ac67_f218981c03f5\" > \n",
       "<thead>    <tr> \n",
       "        <th class=\"blank level0\" ></th> \n",
       "        <th class=\"col_heading level0 col0\" >Item Name</th> \n",
       "        <th class=\"col_heading level0 col1\" >Purchase Count</th> \n",
       "        <th class=\"col_heading level0 col2\" >Item Price</th> \n",
       "        <th class=\"col_heading level0 col3\" >Total Purchase Value</th> \n",
       "    </tr>    <tr> \n",
       "        <th class=\"index_name level0\" >Item ID</th> \n",
       "        <th class=\"blank\" ></th> \n",
       "        <th class=\"blank\" ></th> \n",
       "        <th class=\"blank\" ></th> \n",
       "        <th class=\"blank\" ></th> \n",
       "    </tr></thead> \n",
       "<tbody>    <tr> \n",
       "        <th id=\"T_5ba6e5f6_02e8_11e9_ac67_f218981c03f5level0_row0\" class=\"row_heading level0 row0\" >178</th> \n",
       "        <td id=\"T_5ba6e5f6_02e8_11e9_ac67_f218981c03f5row0_col0\" class=\"data row0 col0\" >Oathbreaker, Last Hope of the Breaking Storm</td> \n",
       "        <td id=\"T_5ba6e5f6_02e8_11e9_ac67_f218981c03f5row0_col1\" class=\"data row0 col1\" >12</td> \n",
       "        <td id=\"T_5ba6e5f6_02e8_11e9_ac67_f218981c03f5row0_col2\" class=\"data row0 col2\" >$4.23</td> \n",
       "        <td id=\"T_5ba6e5f6_02e8_11e9_ac67_f218981c03f5row0_col3\" class=\"data row0 col3\" >$50.76</td> \n",
       "    </tr>    <tr> \n",
       "        <th id=\"T_5ba6e5f6_02e8_11e9_ac67_f218981c03f5level0_row1\" class=\"row_heading level0 row1\" >82</th> \n",
       "        <td id=\"T_5ba6e5f6_02e8_11e9_ac67_f218981c03f5row1_col0\" class=\"data row1 col0\" >Nirvana</td> \n",
       "        <td id=\"T_5ba6e5f6_02e8_11e9_ac67_f218981c03f5row1_col1\" class=\"data row1 col1\" >9</td> \n",
       "        <td id=\"T_5ba6e5f6_02e8_11e9_ac67_f218981c03f5row1_col2\" class=\"data row1 col2\" >$4.90</td> \n",
       "        <td id=\"T_5ba6e5f6_02e8_11e9_ac67_f218981c03f5row1_col3\" class=\"data row1 col3\" >$44.10</td> \n",
       "    </tr>    <tr> \n",
       "        <th id=\"T_5ba6e5f6_02e8_11e9_ac67_f218981c03f5level0_row2\" class=\"row_heading level0 row2\" >145</th> \n",
       "        <td id=\"T_5ba6e5f6_02e8_11e9_ac67_f218981c03f5row2_col0\" class=\"data row2 col0\" >Fiery Glass Crusader</td> \n",
       "        <td id=\"T_5ba6e5f6_02e8_11e9_ac67_f218981c03f5row2_col1\" class=\"data row2 col1\" >9</td> \n",
       "        <td id=\"T_5ba6e5f6_02e8_11e9_ac67_f218981c03f5row2_col2\" class=\"data row2 col2\" >$4.58</td> \n",
       "        <td id=\"T_5ba6e5f6_02e8_11e9_ac67_f218981c03f5row2_col3\" class=\"data row2 col3\" >$41.22</td> \n",
       "    </tr>    <tr> \n",
       "        <th id=\"T_5ba6e5f6_02e8_11e9_ac67_f218981c03f5level0_row3\" class=\"row_heading level0 row3\" >92</th> \n",
       "        <td id=\"T_5ba6e5f6_02e8_11e9_ac67_f218981c03f5row3_col0\" class=\"data row3 col0\" >Final Critic</td> \n",
       "        <td id=\"T_5ba6e5f6_02e8_11e9_ac67_f218981c03f5row3_col1\" class=\"data row3 col1\" >8</td> \n",
       "        <td id=\"T_5ba6e5f6_02e8_11e9_ac67_f218981c03f5row3_col2\" class=\"data row3 col2\" >$4.88</td> \n",
       "        <td id=\"T_5ba6e5f6_02e8_11e9_ac67_f218981c03f5row3_col3\" class=\"data row3 col3\" >$39.04</td> \n",
       "    </tr>    <tr> \n",
       "        <th id=\"T_5ba6e5f6_02e8_11e9_ac67_f218981c03f5level0_row4\" class=\"row_heading level0 row4\" >103</th> \n",
       "        <td id=\"T_5ba6e5f6_02e8_11e9_ac67_f218981c03f5row4_col0\" class=\"data row4 col0\" >Singed Scalpel</td> \n",
       "        <td id=\"T_5ba6e5f6_02e8_11e9_ac67_f218981c03f5row4_col1\" class=\"data row4 col1\" >8</td> \n",
       "        <td id=\"T_5ba6e5f6_02e8_11e9_ac67_f218981c03f5row4_col2\" class=\"data row4 col2\" >$4.35</td> \n",
       "        <td id=\"T_5ba6e5f6_02e8_11e9_ac67_f218981c03f5row4_col3\" class=\"data row4 col3\" >$34.80</td> \n",
       "    </tr></tbody> \n",
       "</table> "
      ],
      "text/plain": [
       "<pandas.io.formats.style.Styler at 0x120b01710>"
      ]
     },
     "execution_count": 9,
     "metadata": {},
     "output_type": "execute_result"
    }
   ],
   "source": [
    "# find total purcahse value and sort by high to low\n",
    "top5_profit = pd.DataFrame(purchase_data.groupby('Item ID')['Price'].sum())\n",
    "top5_profit.sort_values('Price', ascending = False, inplace = True)\n",
    "# only keep top 5\n",
    "top5_profit = top5_profit.iloc[0:5][:]\n",
    "#get item purchase count\n",
    "pur_count_profit = pd.DataFrame(purchase_data.groupby('Item ID')['Item ID'].count())\n",
    "\n",
    "top5_profit = pd.merge(top5_profit, pur_count_profit, left_index = True, right_index = True, how = 'left')\n",
    "top5_merge_profit = pd.merge(top5_profit, no_dup_items, left_index = True, right_on = 'Item ID', how = 'left')\n",
    "top5_merge_profit = top5_merge_profit[['Item ID', 'Item Name', 'Item ID_x', 'Price_y','Price_x']]\n",
    "top5_merge_profit.set_index(['Item ID'], inplace=True)\n",
    "top5_merge_profit.rename(columns = {'Item ID_x': 'Purchase Count', 'Price_y': 'Item Price', 'Price_x': 'Total Purchase Value'}, inplace = True)\n",
    "top5_merge_profit.style.format({'Item Price': '${:.2f}', 'Total Purchase Value': '${:.2f}'})"
   ]
  }
 ],
 "metadata": {
  "anaconda-cloud": {},
  "kernel_info": {
   "name": "python3"
  },
  "kernelspec": {
   "display_name": "Python 3",
   "language": "python",
   "name": "python3"
  },
  "language_info": {
   "codemirror_mode": {
    "name": "ipython",
    "version": 3
   },
   "file_extension": ".py",
   "mimetype": "text/x-python",
   "name": "python",
   "nbconvert_exporter": "python",
   "pygments_lexer": "ipython3",
   "version": "3.7.0"
  },
  "nteract": {
   "version": "0.2.0"
  }
 },
 "nbformat": 4,
 "nbformat_minor": 2
}
